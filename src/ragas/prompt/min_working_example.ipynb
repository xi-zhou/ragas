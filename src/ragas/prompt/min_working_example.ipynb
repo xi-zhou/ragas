{
 "cells": [
  {
   "metadata": {},
   "cell_type": "code",
   "source": [
    "import ragas.prompt.utils as dspy_utils\n",
    "import dspy\n",
    "import importlib\n",
    "importlib.reload(dspy_utils)"
   ],
   "id": "c6cf7265a51e633c",
   "outputs": [],
   "execution_count": null
  },
  {
   "metadata": {},
   "cell_type": "markdown",
   "source": "##### TODO: bind ragas llm and dspy llm together",
   "id": "6cfa00b4e9258ecc"
  },
  {
   "metadata": {
    "ExecuteTime": {
     "end_time": "2024-11-05T14:51:52.402034Z",
     "start_time": "2024-11-05T14:51:52.400228Z"
    }
   },
   "cell_type": "code",
   "source": [
    "lm = dspy.LM('openai/gpt-4o-mini')\n",
    "dspy.configure(lm=lm)"
   ],
   "id": "f37c3aed9463cb21",
   "outputs": [],
   "execution_count": 15
  },
  {
   "metadata": {},
   "cell_type": "markdown",
   "source": "## optimize LLMContextPrecisionWithReference",
   "id": "26183e2d7a68e4c3"
  },
  {
   "metadata": {
    "ExecuteTime": {
     "end_time": "2024-11-05T15:01:03.589269Z",
     "start_time": "2024-11-05T15:01:03.535242Z"
    }
   },
   "cell_type": "code",
   "source": [
    "from ragas.llms import LangchainLLMWrapper\n",
    "from langchain_openai import ChatOpenAI\n",
    "llm = LangchainLLMWrapper(ChatOpenAI(model=\"gpt-4o-mini\"))"
   ],
   "id": "c98add82c2794b21",
   "outputs": [],
   "execution_count": 32
  },
  {
   "metadata": {
    "ExecuteTime": {
     "end_time": "2024-11-05T15:01:04.887232Z",
     "start_time": "2024-11-05T15:01:04.883849Z"
    }
   },
   "cell_type": "code",
   "source": [
    "from ragas.metrics import LLMContextPrecisionWithReference\n",
    "context_precision = LLMContextPrecisionWithReference(llm=llm)\n",
    "prompts = context_precision.get_prompts()[\"context_precision_prompt\"]"
   ],
   "id": "c91a7a6405042971",
   "outputs": [],
   "execution_count": 33
  },
  {
   "metadata": {
    "ExecuteTime": {
     "end_time": "2024-11-05T15:01:06.793797Z",
     "start_time": "2024-11-05T15:01:06.790515Z"
    }
   },
   "cell_type": "code",
   "source": [
    "prompts.instruction\n",
    "prompts.input_model\n",
    "prompts.output_model\n",
    "prompts.examples"
   ],
   "id": "6ce9e7247f4cdb39",
   "outputs": [
    {
     "data": {
      "text/plain": [
       "[(QAC(question='What can you tell me about Albert Einstein?', context=\"Albert Einstein (14 March 1879 – 18 April 1955) was a German-born theoretical physicist, widely held to be one of the greatest and most influential scientists of all time. Best known for developing the theory of relativity, he also made important contributions to quantum mechanics, and was thus a central figure in the revolutionary reshaping of the scientific understanding of nature that modern physics accomplished in the first decades of the twentieth century. His mass–energy equivalence formula E = mc2, which arises from relativity theory, has been called 'the world's most famous equation'. He received the 1921 Nobel Prize in Physics 'for his services to theoretical physics, and especially for his discovery of the law of the photoelectric effect', a pivotal step in the development of quantum theory. His work is also known for its influence on the philosophy of science. In a 1999 poll of 130 leading physicists worldwide by the British journal Physics World, Einstein was ranked the greatest physicist of all time. His intellectual achievements and originality have made Einstein synonymous with genius.\", answer='Albert Einstein, born on 14 March 1879, was a German-born theoretical physicist, widely held to be one of the greatest and most influential scientists of all time. He received the 1921 Nobel Prize in Physics for his services to theoretical physics.'),\n",
       "  Verification(reason=\"The provided context was indeed useful in arriving at the given answer. The context includes key information about Albert Einstein's life and contributions, which are reflected in the answer.\", verdict=1)),\n",
       " (QAC(question='who won 2020 icc world cup?', context=\"The 2022 ICC Men's T20 World Cup, held from October 16 to November 13, 2022, in Australia, was the eighth edition of the tournament. Originally scheduled for 2020, it was postponed due to the COVID-19 pandemic. England emerged victorious, defeating Pakistan by five wickets in the final to clinch their second ICC Men's T20 World Cup title.\", answer='England'),\n",
       "  Verification(reason='the context was useful in clarifying the situation regarding the 2020 ICC World Cup and indicating that England was the winner of the tournament that was intended to be held in 2020 but actually took place in 2022.', verdict=1)),\n",
       " (QAC(question='What is the tallest mountain in the world?', context='The Andes is the longest continental mountain range in the world, located in South America. It stretches across seven countries and features many of the highest peaks in the Western Hemisphere. The range is known for its diverse ecosystems, including the high-altitude Andean Plateau and the Amazon rainforest.', answer='Mount Everest.'),\n",
       "  Verification(reason=\"the provided context discusses the Andes mountain range, which, while impressive, does not include Mount Everest or directly relate to the question about the world's tallest mountain.\", verdict=0))]"
      ]
     },
     "execution_count": 34,
     "metadata": {},
     "output_type": "execute_result"
    }
   ],
   "execution_count": 34
  },
  {
   "metadata": {
    "ExecuteTime": {
     "end_time": "2024-11-05T15:01:08.878606Z",
     "start_time": "2024-11-05T15:01:08.863860Z"
    }
   },
   "cell_type": "code",
   "source": "sig=dspy_utils.base_model_to_signature(input=prompts.input_model, output=prompts.output_model)",
   "id": "c7520a2e97278f2a",
   "outputs": [],
   "execution_count": 35
  },
  {
   "metadata": {
    "ExecuteTime": {
     "end_time": "2024-11-05T15:01:09.889985Z",
     "start_time": "2024-11-05T15:01:09.887018Z"
    }
   },
   "cell_type": "code",
   "source": "data= dspy_utils.ragas_example_to_dspy(data=prompts.examples, input_model=prompts.input_model, output_model=prompts.output_model)",
   "id": "773f248d09dce99a",
   "outputs": [],
   "execution_count": 36
  },
  {
   "metadata": {
    "ExecuteTime": {
     "end_time": "2024-11-05T15:01:10.986460Z",
     "start_time": "2024-11-05T15:01:10.984309Z"
    }
   },
   "cell_type": "code",
   "source": "context_precision_judge =dspy.Predict(sig)",
   "id": "3b5c5db189b9de51",
   "outputs": [],
   "execution_count": 37
  },
  {
   "metadata": {
    "ExecuteTime": {
     "end_time": "2024-11-05T15:01:12.418825Z",
     "start_time": "2024-11-05T15:01:12.396129Z"
    }
   },
   "cell_type": "code",
   "source": [
    "from dspy.teleprompt import BootstrapFewShot\n",
    "fewshot_optimizer = BootstrapFewShot(metric=dspy_utils.judge, max_bootstrapped_demos=10, max_labeled_demos=2, max_rounds=2)\n",
    "fewshot_optimizer_compiled = fewshot_optimizer.compile(context_precision_judge, trainset=data)"
   ],
   "id": "af3f168790f74f01",
   "outputs": [
    {
     "name": "stderr",
     "output_type": "stream",
     "text": [
      "100%|██████████| 3/3 [00:00<00:00, 696.69it/s]\n",
      "100%|██████████| 3/3 [00:00<00:00, 331.64it/s]"
     ]
    },
    {
     "name": "stdout",
     "output_type": "stream",
     "text": [
      "Bootstrapped 2 full traces after 3 examples in round 1.\n"
     ]
    },
    {
     "name": "stderr",
     "output_type": "stream",
     "text": [
      "\n"
     ]
    }
   ],
   "execution_count": 38
  },
  {
   "metadata": {
    "ExecuteTime": {
     "end_time": "2024-11-05T15:01:13.955607Z",
     "start_time": "2024-11-05T15:01:13.869782Z"
    }
   },
   "cell_type": "code",
   "source": [
    "from dspy.teleprompt import COPRO\n",
    "copro_optimizer = COPRO(\n",
    "    metric=dspy_utils.judge,\n",
    "    verbose=True,\n",
    ")\n",
    "kwargs = dict(num_threads=5, display_progress=False, display_table=0)\n",
    "copro_optimizer_compiled = copro_optimizer.compile(context_precision_judge, trainset=data, eval_kwargs=kwargs)"
   ],
   "id": "57e2f4d0dc1f158d",
   "outputs": [],
   "execution_count": 39
  },
  {
   "metadata": {
    "ExecuteTime": {
     "end_time": "2024-11-05T15:01:15.248563Z",
     "start_time": "2024-11-05T15:01:15.243613Z"
    }
   },
   "cell_type": "code",
   "source": "examples = dspy_utils.dspy_example_to_ragas(fewshot_optimizer_compiled.demos, input_model=prompts.input_model, output_model=prompts.output_model)",
   "id": "7daedd199b0e7da",
   "outputs": [],
   "execution_count": 40
  },
  {
   "metadata": {
    "ExecuteTime": {
     "end_time": "2024-11-05T15:01:16.301290Z",
     "start_time": "2024-11-05T15:01:16.297178Z"
    }
   },
   "cell_type": "code",
   "source": [
    "prompts.instruction= copro_optimizer_compiled.signature.instructions\n",
    "prompts.examples = examples"
   ],
   "id": "a971f94b89b3d398",
   "outputs": [],
   "execution_count": 41
  },
  {
   "metadata": {
    "ExecuteTime": {
     "end_time": "2024-11-05T15:01:18.237921Z",
     "start_time": "2024-11-05T15:01:18.232651Z"
    }
   },
   "cell_type": "code",
   "source": "context_precision.set_prompts(**{\"context_precision_prompt\": prompts})",
   "id": "d1a690217e19518f",
   "outputs": [],
   "execution_count": 42
  },
  {
   "metadata": {},
   "cell_type": "code",
   "outputs": [],
   "execution_count": null,
   "source": "context_precision.save_prompts(path=\"./\")",
   "id": "f4ee8ffdd3b3d87e"
  },
  {
   "metadata": {
    "ExecuteTime": {
     "end_time": "2024-11-05T14:52:05.307794Z",
     "start_time": "2024-11-05T14:52:03.783785Z"
    }
   },
   "cell_type": "code",
   "source": [
    "from datasets import load_dataset\n",
    "from ragas import EvaluationDataset\n",
    "dataset = load_dataset(\"explodinggradients/amnesty_qa\",\"english_v3\")\n",
    "eval_dataset = EvaluationDataset.from_hf_dataset(dataset[\"eval\"])"
   ],
   "id": "7d0377a5928e1e7e",
   "outputs": [
    {
     "name": "stderr",
     "output_type": "stream",
     "text": [
      "Repo card metadata block was not found. Setting CardData to empty.\n"
     ]
    }
   ],
   "execution_count": 27
  },
  {
   "metadata": {
    "ExecuteTime": {
     "end_time": "2024-11-05T15:01:28.037917Z",
     "start_time": "2024-11-05T15:01:22.972499Z"
    }
   },
   "cell_type": "code",
   "source": "await context_precision.single_turn_ascore(eval_dataset[0])",
   "id": "f5bc68536ff628f8",
   "outputs": [
    {
     "data": {
      "text/plain": [
       "0.9999999999666667"
      ]
     },
     "execution_count": 43,
     "metadata": {},
     "output_type": "execute_result"
    }
   ],
   "execution_count": 43
  },
  {
   "metadata": {},
   "cell_type": "code",
   "source": "sum([x['cost'] for x in lm.history if x['cost'] is not None])",
   "id": "383cd082d8217a30",
   "outputs": [],
   "execution_count": null
  }
 ],
 "metadata": {
  "kernelspec": {
   "display_name": "Python 3",
   "language": "python",
   "name": "python3"
  },
  "language_info": {
   "codemirror_mode": {
    "name": "ipython",
    "version": 2
   },
   "file_extension": ".py",
   "mimetype": "text/x-python",
   "name": "python",
   "nbconvert_exporter": "python",
   "pygments_lexer": "ipython2",
   "version": "2.7.6"
  }
 },
 "nbformat": 4,
 "nbformat_minor": 5
}
