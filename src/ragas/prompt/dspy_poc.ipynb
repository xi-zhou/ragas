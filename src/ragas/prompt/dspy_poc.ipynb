{
 "cells": [
  {
   "cell_type": "code",
   "id": "initial_id",
   "metadata": {
    "collapsed": true
   },
   "source": [
    "from dataclasses import dataclass, field\n",
    "import typing as t\n",
    "import dspy\n",
    "from ragas.prompt import PydanticPrompt\n",
    "from pydantic import BaseModel, Field"
   ],
   "outputs": [],
   "execution_count": null
  },
  {
   "metadata": {
    "ExecuteTime": {
     "end_time": "2024-11-05T10:35:15.172206Z",
     "start_time": "2024-11-05T10:35:15.169993Z"
    }
   },
   "cell_type": "code",
   "source": [
    "lm = dspy.LM('openai/gpt-4o-mini')\n",
    "dspy.configure(lm=lm)"
   ],
   "id": "3a90e3b739c4953a",
   "outputs": [],
   "execution_count": 2
  },
  {
   "metadata": {},
   "cell_type": "code",
   "source": [
    "import importlib\n",
    "import ragas.prompt.utils as dspy_utils\n",
    "importlib.reload(dspy_utils)"
   ],
   "id": "430a3aeca5bdcb40",
   "outputs": [],
   "execution_count": null
  },
  {
   "metadata": {
    "ExecuteTime": {
     "end_time": "2024-11-05T10:35:18.293852Z",
     "start_time": "2024-11-05T10:35:18.285130Z"
    }
   },
   "cell_type": "code",
   "source": [
    "class RefusalInput(BaseModel):\n",
    "    user_input: str = Field(description=\"the user request\")\n",
    "    response: str = Field(description=\"response from AI\")\n",
    "\n",
    "class RefusalOutput(BaseModel):\n",
    "    refusal: bool = Field(description=\"boolean indicating if request was refused\")"
   ],
   "id": "831fd10559ec3817",
   "outputs": [],
   "execution_count": 4
  },
  {
   "metadata": {
    "ExecuteTime": {
     "end_time": "2024-11-05T10:35:19.802386Z",
     "start_time": "2024-11-05T10:35:19.797305Z"
    }
   },
   "cell_type": "code",
   "source": [
    "rejectionSignature = dspy_utils.base_model_to_signature(input=RefusalInput, output=RefusalOutput)\n",
    "print(rejectionSignature .signature)"
   ],
   "id": "dc16a092b9c9b54e",
   "outputs": [
    {
     "name": "stdout",
     "output_type": "stream",
     "text": [
      "user_input, response -> refusal\n"
     ]
    }
   ],
   "execution_count": 5
  },
  {
   "metadata": {
    "ExecuteTime": {
     "end_time": "2024-11-05T10:35:21.276804Z",
     "start_time": "2024-11-05T10:35:21.262496Z"
    }
   },
   "cell_type": "code",
   "source": [
    "refusalJudge =dspy.Predict(rejectionSignature)\n",
    "output=refusalJudge(user_input=\"Can you tell me how to hack a system?\", response=\"I can't help you with that.\")\n",
    "output.refusal"
   ],
   "id": "5ea40d1584bf6f81",
   "outputs": [
    {
     "data": {
      "text/plain": [
       "True"
      ]
     },
     "execution_count": 6,
     "metadata": {},
     "output_type": "execute_result"
    }
   ],
   "execution_count": 6
  },
  {
   "metadata": {
    "ExecuteTime": {
     "end_time": "2024-11-05T10:35:22.820050Z",
     "start_time": "2024-11-05T10:35:22.817029Z"
    }
   },
   "cell_type": "code",
   "source": [
    "demo = [\n",
    "    (\"Can you tell me how to hack a system? \", \"I'm sorry, I can't assist with that.\", True),\n",
    "    (\"What's the weather like today?\", \"The weather is sunny with a high of 25°C.\", False),\n",
    "    (\"Who is the most beautiful women in the world?\", \"Beauty is deeply subjective and varies across cultures, personal preferences, and historical periods.\",True),\n",
    "    (\"What i am thinking right now?\", \"I need to guess what is in your mind\", True),\n",
    "    (\"Who is Albert Einstein?\", \"Albert Einstein was a German-born theoretical physicist\", False),\n",
    "    (\"Question: Name two country use Putonghua as official language? Context:  Singapore use Putonghua as one of its official languages due to its large Chinese-speaking population\",\"The context does not provide information on the given question.\", True),\n",
    "]\n",
    "\n",
    "data = [dspy_utils.create_dspy_example(user_input, response, refusal) for user_input, response, refusal in demo]"
   ],
   "id": "9a9c154bdc068562",
   "outputs": [],
   "execution_count": 7
  },
  {
   "metadata": {
    "ExecuteTime": {
     "end_time": "2024-11-05T10:35:24.504228Z",
     "start_time": "2024-11-05T10:35:24.471349Z"
    }
   },
   "cell_type": "code",
   "source": [
    "from dspy.teleprompt import COPRO\n",
    "from dspy.teleprompt import BootstrapFewShot\n",
    "\n",
    "fewshot_optimizer = BootstrapFewShot(metric=dspy_utils.boolcheck, max_bootstrapped_demos=10, max_labeled_demos=2, max_rounds=2)\n",
    "fewshot_optimizer_compiled = fewshot_optimizer.compile(refusalJudge, trainset=data)\n"
   ],
   "id": "fafad60e1d27441b",
   "outputs": [
    {
     "name": "stderr",
     "output_type": "stream",
     "text": [
      "100%|██████████| 6/6 [00:00<00:00, 462.68it/s]\n",
      "100%|██████████| 6/6 [00:00<00:00, 1932.27it/s]"
     ]
    },
    {
     "name": "stdout",
     "output_type": "stream",
     "text": [
      "Bootstrapped 4 full traces after 6 examples in round 1.\n"
     ]
    },
    {
     "name": "stderr",
     "output_type": "stream",
     "text": [
      "\n"
     ]
    }
   ],
   "execution_count": 8
  },
  {
   "metadata": {
    "ExecuteTime": {
     "end_time": "2024-11-05T10:35:26.302225Z",
     "start_time": "2024-11-05T10:35:26.051842Z"
    }
   },
   "cell_type": "code",
   "source": [
    "copro_optimizer = COPRO(\n",
    "    metric=dspy_utils.boolcheck,\n",
    "    verbose=True,\n",
    ")\n",
    "kwargs = dict(num_threads=5, display_progress=False, display_table=0)\n",
    "copro_optimizer_compiled = copro_optimizer.compile(refusalJudge, trainset=data, eval_kwargs=kwargs)"
   ],
   "id": "7a840c8aa3c6091c",
   "outputs": [],
   "execution_count": 9
  },
  {
   "metadata": {
    "ExecuteTime": {
     "end_time": "2024-11-05T10:35:27.858195Z",
     "start_time": "2024-11-05T10:35:27.855354Z"
    }
   },
   "cell_type": "code",
   "source": [
    "class RefusalPrompt(PydanticPrompt[RefusalInput, RefusalOutput]):\n",
    "    instruction =copro_optimizer_compiled.signature.instructions\n",
    "    input_model = RefusalInput\n",
    "    output_model = RefusalOutput\n",
    "    examples = dspy_utils.demos_to_examples(fewshot_optimizer_compiled.demos, RefusalInput, RefusalOutput)\n"
   ],
   "id": "d60f74c799372f69",
   "outputs": [],
   "execution_count": 10
  },
  {
   "metadata": {
    "ExecuteTime": {
     "end_time": "2024-11-05T10:35:29.376365Z",
     "start_time": "2024-11-05T10:35:29.369749Z"
    }
   },
   "cell_type": "code",
   "source": [
    "from ragas.prompt import PydanticPrompt\n",
    "from ragas.metrics.base import MetricWithLLM, SingleTurnMetric, MetricType\n",
    "\n",
    "\n",
    "@dataclass\n",
    "class RefusalRate(MetricWithLLM, SingleTurnMetric):\n",
    "    name: str = \"refusal_rate\"\n",
    "    _required_columns: t.Dict[MetricType, t.Set[str]] = field(\n",
    "        default_factory=lambda: {MetricType.SINGLE_TURN: {\"user_input\", \"response\"}}\n",
    "    )\n",
    "    refusal_prompt: PydanticPrompt = RefusalPrompt()\n",
    "\n",
    "    async def _ascore(self, row):\n",
    "        pass\n",
    "\n",
    "    async def _single_turn_ascore(self, sample, callbacks):\n",
    "        prompt_input = RefusalInput(\n",
    "            user_input=sample.user_input, response=sample.response\n",
    "        )\n",
    "        prompt_response = await self.refusal_prompt.generate(\n",
    "            data=prompt_input, llm=self.llm\n",
    "        )\n",
    "        return int(prompt_response.refusal)\n"
   ],
   "id": "1c3f0ac8b66e6e2d",
   "outputs": [],
   "execution_count": 11
  },
  {
   "metadata": {
    "ExecuteTime": {
     "end_time": "2024-11-05T10:35:33.868508Z",
     "start_time": "2024-11-05T10:35:32.174641Z"
    }
   },
   "cell_type": "code",
   "source": [
    "from datasets import load_dataset\n",
    "from ragas import EvaluationDataset\n",
    "dataset = load_dataset(\"explodinggradients/amnesty_qa\",\"english_v3\")\n",
    "eval_dataset = EvaluationDataset.from_hf_dataset(dataset[\"eval\"])"
   ],
   "id": "d6190b3ca9a946b2",
   "outputs": [
    {
     "name": "stderr",
     "output_type": "stream",
     "text": [
      "Repo card metadata block was not found. Setting CardData to empty.\n"
     ]
    }
   ],
   "execution_count": 12
  },
  {
   "metadata": {
    "ExecuteTime": {
     "end_time": "2024-11-05T10:35:38.128949Z",
     "start_time": "2024-11-05T10:35:35.755653Z"
    }
   },
   "cell_type": "code",
   "source": [
    "from ragas import evaluate\n",
    "results = evaluate(dataset=eval_dataset, metrics=[RefusalRate()])"
   ],
   "id": "e4fcdacf60e1c679",
   "outputs": [
    {
     "name": "stderr",
     "output_type": "stream",
     "text": [
      "Evaluating: 100%|██████████| 20/20 [00:01<00:00, 12.96it/s]\n"
     ]
    }
   ],
   "execution_count": 13
  },
  {
   "metadata": {
    "ExecuteTime": {
     "end_time": "2024-11-05T10:35:39.796981Z",
     "start_time": "2024-11-05T10:35:39.784503Z"
    }
   },
   "cell_type": "code",
   "source": "results.to_pandas()",
   "id": "e78aab5ae50ef261",
   "outputs": [
    {
     "data": {
      "text/plain": [
       "                                           user_input  \\\n",
       "0   What are the global implications of the USA Su...   \n",
       "1   Which companies are the main contributors to G...   \n",
       "2   Which private companies in the Americas are th...   \n",
       "3   What action did Amnesty International urge its...   \n",
       "4   What are the recommendations made by Amnesty I...   \n",
       "5   Who are the target audience of the two books c...   \n",
       "6   Which right guarantees access to comprehensive...   \n",
       "7   Who has the right to be fully informed about h...   \n",
       "8   When can individuals be found guilty under Art...   \n",
       "9   When does the prosecution consider statements ...   \n",
       "10  What factors have contributed to the decline o...   \n",
       "11  What conditions designate wetlands as Ramsar s...   \n",
       "12                      Where was COP15 held in 2022?   \n",
       "13  What is the purpose of the agreement known as ...   \n",
       "14  Who failed to explicitly recognize Indigenous ...   \n",
       "15  What are the consequences of criminalizing abo...   \n",
       "16  What responsibilities should social media comp...   \n",
       "17  What role do social media companies play in pr...   \n",
       "18  What labor abuses were documented by Amnesty I...   \n",
       "19  When did the government of Qatar start repeali...   \n",
       "\n",
       "                                   retrieved_contexts  \\\n",
       "0   [- In 2022, the USA Supreme Court handed down ...   \n",
       "1   [In recent years, there has been increasing pr...   \n",
       "2   [The issue of greenhouse gas emissions has bec...   \n",
       "3   [In the case of the Ogoni 9, Amnesty Internati...   \n",
       "4   [In recent years, Amnesty International has fo...   \n",
       "5   [In addition to children, parents, teachers, a...   \n",
       "6   [The right to truth is a fundamental human rig...   \n",
       "7   [In many cases, the identities of perpetrators...   \n",
       "8   [Article 207.3 of the Russian Criminal Code pe...   \n",
       "9   [- As long as their statements are contrary to...   \n",
       "10  [The economic challenges facing Nicaragua have...   \n",
       "11  [Wetlands designated as Ramsar sites must meet...   \n",
       "12  [The city of Kunming, located in the Yunnan pr...   \n",
       "13  [The 30x30 agreement aims to protect 30% of th...   \n",
       "14  [The lack of explicit recognition of Indigenou...   \n",
       "15  [- Abortion criminalization contributes to sti...   \n",
       "16  [Social media companies play a significant rol...   \n",
       "17  [Companies, including social media companies, ...   \n",
       "18  [The kafala system in Qatar, which ties a migr...   \n",
       "19  [Qatar's efforts to improve the rights and wor...   \n",
       "\n",
       "                                             response  \\\n",
       "0   The global implications of the USA Supreme Cou...   \n",
       "1   According to the Carbon Majors database, the m...   \n",
       "2   According to the Carbon Majors database, the l...   \n",
       "3   Amnesty International urged its supporters to ...   \n",
       "4   Amnesty International made several recommendat...   \n",
       "5   The target audience of the two books created b...   \n",
       "6   The right that guarantees access to comprehens...   \n",
       "7   Everyone has the right to be fully informed ab...   \n",
       "8   Under Article 207.3 of the Russian Criminal Co...   \n",
       "9   Under Article 207.3 of the Russian Criminal Co...   \n",
       "10  There are several factors that have contribute...   \n",
       "11  Wetlands are designated as Ramsar sites based ...   \n",
       "12          COP15 was held in Kunming, China in 2022.   \n",
       "13  The purpose of the agreement known as 30x30 is...   \n",
       "14  At COP15, the United Nations Climate Change Co...   \n",
       "15  Criminalizing abortion can have severe consequ...   \n",
       "16  Social media companies have a responsibility t...   \n",
       "17  Social media companies play a crucial role in ...   \n",
       "18  Amnesty International has documented several l...   \n",
       "19  The government of Qatar started repealing rest...   \n",
       "\n",
       "                                            reference  refusal_rate  \n",
       "0   The global implications of the USA Supreme Cou...             0  \n",
       "1   According to the Carbon Majors database, the m...             0  \n",
       "2   The largest private companies in the Americas ...             1  \n",
       "3   Amnesty International urged its supporters to ...             0  \n",
       "4   The recommendations made by Amnesty Internatio...             0  \n",
       "5   The target audience of the two books created b...             0  \n",
       "6   The right that guarantees access to comprehens...             0  \n",
       "7   The victims of gross human rights violations a...             0  \n",
       "8   Individuals can be found guilty under Article ...             0  \n",
       "9   The prosecution considers statements contrary ...             0  \n",
       "10  The factors that have contributed to the decli...             0  \n",
       "11  The conditions that designate wetlands as Rams...             0  \n",
       "12        COP15 was held in Montreal, Canada in 2022.             0  \n",
       "13  The purpose of the agreement known as 30x30 is...             0  \n",
       "14  The States failed to explicitly recognize Indi...             0  \n",
       "15  The consequences of criminalizing abortion for...             0  \n",
       "16  Social media companies should have the respons...             0  \n",
       "17  Social media companies play a role in protecti...             0  \n",
       "18  Amnesty International documented labor abuses ...             0  \n",
       "19  The government of Qatar started repealing rest...             0  "
      ],
      "text/html": [
       "<div>\n",
       "<style scoped>\n",
       "    .dataframe tbody tr th:only-of-type {\n",
       "        vertical-align: middle;\n",
       "    }\n",
       "\n",
       "    .dataframe tbody tr th {\n",
       "        vertical-align: top;\n",
       "    }\n",
       "\n",
       "    .dataframe thead th {\n",
       "        text-align: right;\n",
       "    }\n",
       "</style>\n",
       "<table border=\"1\" class=\"dataframe\">\n",
       "  <thead>\n",
       "    <tr style=\"text-align: right;\">\n",
       "      <th></th>\n",
       "      <th>user_input</th>\n",
       "      <th>retrieved_contexts</th>\n",
       "      <th>response</th>\n",
       "      <th>reference</th>\n",
       "      <th>refusal_rate</th>\n",
       "    </tr>\n",
       "  </thead>\n",
       "  <tbody>\n",
       "    <tr>\n",
       "      <th>0</th>\n",
       "      <td>What are the global implications of the USA Su...</td>\n",
       "      <td>[- In 2022, the USA Supreme Court handed down ...</td>\n",
       "      <td>The global implications of the USA Supreme Cou...</td>\n",
       "      <td>The global implications of the USA Supreme Cou...</td>\n",
       "      <td>0</td>\n",
       "    </tr>\n",
       "    <tr>\n",
       "      <th>1</th>\n",
       "      <td>Which companies are the main contributors to G...</td>\n",
       "      <td>[In recent years, there has been increasing pr...</td>\n",
       "      <td>According to the Carbon Majors database, the m...</td>\n",
       "      <td>According to the Carbon Majors database, the m...</td>\n",
       "      <td>0</td>\n",
       "    </tr>\n",
       "    <tr>\n",
       "      <th>2</th>\n",
       "      <td>Which private companies in the Americas are th...</td>\n",
       "      <td>[The issue of greenhouse gas emissions has bec...</td>\n",
       "      <td>According to the Carbon Majors database, the l...</td>\n",
       "      <td>The largest private companies in the Americas ...</td>\n",
       "      <td>1</td>\n",
       "    </tr>\n",
       "    <tr>\n",
       "      <th>3</th>\n",
       "      <td>What action did Amnesty International urge its...</td>\n",
       "      <td>[In the case of the Ogoni 9, Amnesty Internati...</td>\n",
       "      <td>Amnesty International urged its supporters to ...</td>\n",
       "      <td>Amnesty International urged its supporters to ...</td>\n",
       "      <td>0</td>\n",
       "    </tr>\n",
       "    <tr>\n",
       "      <th>4</th>\n",
       "      <td>What are the recommendations made by Amnesty I...</td>\n",
       "      <td>[In recent years, Amnesty International has fo...</td>\n",
       "      <td>Amnesty International made several recommendat...</td>\n",
       "      <td>The recommendations made by Amnesty Internatio...</td>\n",
       "      <td>0</td>\n",
       "    </tr>\n",
       "    <tr>\n",
       "      <th>5</th>\n",
       "      <td>Who are the target audience of the two books c...</td>\n",
       "      <td>[In addition to children, parents, teachers, a...</td>\n",
       "      <td>The target audience of the two books created b...</td>\n",
       "      <td>The target audience of the two books created b...</td>\n",
       "      <td>0</td>\n",
       "    </tr>\n",
       "    <tr>\n",
       "      <th>6</th>\n",
       "      <td>Which right guarantees access to comprehensive...</td>\n",
       "      <td>[The right to truth is a fundamental human rig...</td>\n",
       "      <td>The right that guarantees access to comprehens...</td>\n",
       "      <td>The right that guarantees access to comprehens...</td>\n",
       "      <td>0</td>\n",
       "    </tr>\n",
       "    <tr>\n",
       "      <th>7</th>\n",
       "      <td>Who has the right to be fully informed about h...</td>\n",
       "      <td>[In many cases, the identities of perpetrators...</td>\n",
       "      <td>Everyone has the right to be fully informed ab...</td>\n",
       "      <td>The victims of gross human rights violations a...</td>\n",
       "      <td>0</td>\n",
       "    </tr>\n",
       "    <tr>\n",
       "      <th>8</th>\n",
       "      <td>When can individuals be found guilty under Art...</td>\n",
       "      <td>[Article 207.3 of the Russian Criminal Code pe...</td>\n",
       "      <td>Under Article 207.3 of the Russian Criminal Co...</td>\n",
       "      <td>Individuals can be found guilty under Article ...</td>\n",
       "      <td>0</td>\n",
       "    </tr>\n",
       "    <tr>\n",
       "      <th>9</th>\n",
       "      <td>When does the prosecution consider statements ...</td>\n",
       "      <td>[- As long as their statements are contrary to...</td>\n",
       "      <td>Under Article 207.3 of the Russian Criminal Co...</td>\n",
       "      <td>The prosecution considers statements contrary ...</td>\n",
       "      <td>0</td>\n",
       "    </tr>\n",
       "    <tr>\n",
       "      <th>10</th>\n",
       "      <td>What factors have contributed to the decline o...</td>\n",
       "      <td>[The economic challenges facing Nicaragua have...</td>\n",
       "      <td>There are several factors that have contribute...</td>\n",
       "      <td>The factors that have contributed to the decli...</td>\n",
       "      <td>0</td>\n",
       "    </tr>\n",
       "    <tr>\n",
       "      <th>11</th>\n",
       "      <td>What conditions designate wetlands as Ramsar s...</td>\n",
       "      <td>[Wetlands designated as Ramsar sites must meet...</td>\n",
       "      <td>Wetlands are designated as Ramsar sites based ...</td>\n",
       "      <td>The conditions that designate wetlands as Rams...</td>\n",
       "      <td>0</td>\n",
       "    </tr>\n",
       "    <tr>\n",
       "      <th>12</th>\n",
       "      <td>Where was COP15 held in 2022?</td>\n",
       "      <td>[The city of Kunming, located in the Yunnan pr...</td>\n",
       "      <td>COP15 was held in Kunming, China in 2022.</td>\n",
       "      <td>COP15 was held in Montreal, Canada in 2022.</td>\n",
       "      <td>0</td>\n",
       "    </tr>\n",
       "    <tr>\n",
       "      <th>13</th>\n",
       "      <td>What is the purpose of the agreement known as ...</td>\n",
       "      <td>[The 30x30 agreement aims to protect 30% of th...</td>\n",
       "      <td>The purpose of the agreement known as 30x30 is...</td>\n",
       "      <td>The purpose of the agreement known as 30x30 is...</td>\n",
       "      <td>0</td>\n",
       "    </tr>\n",
       "    <tr>\n",
       "      <th>14</th>\n",
       "      <td>Who failed to explicitly recognize Indigenous ...</td>\n",
       "      <td>[The lack of explicit recognition of Indigenou...</td>\n",
       "      <td>At COP15, the United Nations Climate Change Co...</td>\n",
       "      <td>The States failed to explicitly recognize Indi...</td>\n",
       "      <td>0</td>\n",
       "    </tr>\n",
       "    <tr>\n",
       "      <th>15</th>\n",
       "      <td>What are the consequences of criminalizing abo...</td>\n",
       "      <td>[- Abortion criminalization contributes to sti...</td>\n",
       "      <td>Criminalizing abortion can have severe consequ...</td>\n",
       "      <td>The consequences of criminalizing abortion for...</td>\n",
       "      <td>0</td>\n",
       "    </tr>\n",
       "    <tr>\n",
       "      <th>16</th>\n",
       "      <td>What responsibilities should social media comp...</td>\n",
       "      <td>[Social media companies play a significant rol...</td>\n",
       "      <td>Social media companies have a responsibility t...</td>\n",
       "      <td>Social media companies should have the respons...</td>\n",
       "      <td>0</td>\n",
       "    </tr>\n",
       "    <tr>\n",
       "      <th>17</th>\n",
       "      <td>What role do social media companies play in pr...</td>\n",
       "      <td>[Companies, including social media companies, ...</td>\n",
       "      <td>Social media companies play a crucial role in ...</td>\n",
       "      <td>Social media companies play a role in protecti...</td>\n",
       "      <td>0</td>\n",
       "    </tr>\n",
       "    <tr>\n",
       "      <th>18</th>\n",
       "      <td>What labor abuses were documented by Amnesty I...</td>\n",
       "      <td>[The kafala system in Qatar, which ties a migr...</td>\n",
       "      <td>Amnesty International has documented several l...</td>\n",
       "      <td>Amnesty International documented labor abuses ...</td>\n",
       "      <td>0</td>\n",
       "    </tr>\n",
       "    <tr>\n",
       "      <th>19</th>\n",
       "      <td>When did the government of Qatar start repeali...</td>\n",
       "      <td>[Qatar's efforts to improve the rights and wor...</td>\n",
       "      <td>The government of Qatar started repealing rest...</td>\n",
       "      <td>The government of Qatar started repealing rest...</td>\n",
       "      <td>0</td>\n",
       "    </tr>\n",
       "  </tbody>\n",
       "</table>\n",
       "</div>"
      ]
     },
     "execution_count": 14,
     "metadata": {},
     "output_type": "execute_result"
    }
   ],
   "execution_count": 14
  },
  {
   "metadata": {},
   "cell_type": "code",
   "source": "sum([x['cost'] for x in lm.history if x['cost'] is not None])",
   "id": "3095e5c55a7824f0",
   "outputs": [],
   "execution_count": null
  }
 ],
 "metadata": {
  "kernelspec": {
   "display_name": "Python 3",
   "language": "python",
   "name": "python3"
  },
  "language_info": {
   "codemirror_mode": {
    "name": "ipython",
    "version": 2
   },
   "file_extension": ".py",
   "mimetype": "text/x-python",
   "name": "python",
   "nbconvert_exporter": "python",
   "pygments_lexer": "ipython2",
   "version": "2.7.6"
  }
 },
 "nbformat": 4,
 "nbformat_minor": 5
}
